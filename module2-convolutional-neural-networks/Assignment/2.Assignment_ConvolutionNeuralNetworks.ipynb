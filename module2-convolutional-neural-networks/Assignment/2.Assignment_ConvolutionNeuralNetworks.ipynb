{
 "cells": [
  {
   "cell_type": "markdown",
   "metadata": {},
   "source": [
    "<img align=\"left\" src=\"https://lever-client-logos.s3.amazonaws.com/864372b1-534c-480e-acd5-9711f850815c-1524247202159.png\" width=200>\n",
    "<br></br>\n",
    "<br></br>\n",
    "\n",
    "## *Data Science Unit 4 Sprint 3 Assignment 2*\n",
    "# Convolutional Neural Networks (CNNs)"
   ]
  },
  {
   "cell_type": "markdown",
   "metadata": {
    "colab_type": "text",
    "id": "0lfZdD_cp1t5"
   },
   "source": [
    "# Assignment\n",
    "\n",
    "- <a href=\"#p1\">Part 1:</a> Pre-Trained Model\n",
    "- <a href=\"#p2\">Part 2:</a> Custom CNN Model\n",
    "- <a href=\"#p3\">Part 3:</a> CNN with Data Augmentation\n",
    "\n",
    "\n",
    "You will apply three different CNN models to a binary image classification model using Keras. Classify images of Mountains (`./data/mountain/*`) and images of forests (`./data/forest/*`). Treat mountains as the postive class (1) and the forest images as the negative (zero). \n",
    "\n",
    "|Mountain (+)|Forest (-)|\n",
    "|---|---|\n",
    "|![](./data/mountain/art1131.jpg)|![](./data/forest/cdmc317.jpg)|\n",
    "\n",
    "The problem is realively difficult given that the sample is tiny: there are about 350 observations per class. This sample size might be something that you can expect with prototyping an image classification problem/solution at work. Get accustomed to evaluating several differnet possible models."
   ]
  },
  {
   "cell_type": "markdown",
   "metadata": {
    "colab_type": "text",
    "id": "0lfZdD_cp1t5"
   },
   "source": [
    "# Pre - Trained Model\n",
    "<a id=\"p1\"></a>\n",
    "\n",
    "Load a pretrained network from Keras, [ResNet50](https://tfhub.dev/google/imagenet/resnet_v1_50/classification/1) - a 50 layer deep network trained to recognize [1000 objects](https://storage.googleapis.com/download.tensorflow.org/data/ImageNetLabels.txt). Starting usage:\n",
    "\n",
    "```python\n",
    "import numpy as np\n",
    "\n",
    "from tensorflow.keras.applications.resnet50 import ResNet50\n",
    "from tensorflow.keras.preprocessing import image\n",
    "from tensorflow.keras.applications.resnet50 import preprocess_input, decode_predictions\n",
    "\n",
    "from tensorflow.keras.layers import Dense, GlobalAveragePooling2D()\n",
    "from tensorflow.keras.models import Model # This is the functional API\n",
    "\n",
    "resnet = ResNet50(weights='imagenet', include_top=False)\n",
    "\n",
    "```\n",
    "\n",
    "The `include_top` parameter in `ResNet50` will remove the full connected layers from the ResNet model. The next step is to turn off the training of the ResNet layers. We want to use the learned parameters without updating them in future training passes. \n",
    "\n",
    "```python\n",
    "for layer in resnet.layers:\n",
    "    layer.trainable = False\n",
    "```\n",
    "\n",
    "Using the Keras functional API, we will need to additional full connected layers to our model. We removed the top layers, we removed all previous fully connected layers. In other words, we kept only the feature processing portions of our network. You can expert with additional layers beyond what's listed here. The `GlobalAveragePooling2D` layer functions as a really fancy flatten function by taking the average of each of the last convolutional layer outputs (which is two dimensional still). \n",
    "\n",
    "```python\n",
    "x = res.output\n",
    "x = GlobalAveragePooling2D()(x) # This layer is a really fancy flatten\n",
    "x = Dense(1024, activation='relu')(x)\n",
    "predictions = Dense(1, activation='sigmoid')(x)\n",
    "model = Model(res.input, predictions)\n",
    "```\n",
    "\n",
    "Your assignment is to apply the transfer learning above to classify images of Mountains (`./data/mountain/*`) and images of forests (`./data/forest/*`). Treat mountains as the postive class (1) and the forest images as the negative (zero). \n",
    "\n",
    "Steps to complete assignment: \n",
    "1. Load in Image Data into numpy arrays (`X`) \n",
    "2. Create a `y` for the labels\n",
    "3. Train your model with pretrained layers from resnet\n",
    "4. Report your model's accuracy"
   ]
  },
  {
   "cell_type": "markdown",
   "metadata": {},
   "source": [
    "## Load in Data\n",
    "\n",
    "![skimage-logo](https://scikit-image.org/_static/img/logo.png)\n",
    "\n",
    "Check out out [`skimage`](https://scikit-image.org/) for useful functions related to processing the images. In particular checkout the documentation for `skimage.io.imread_collection` and `skimage.transform.resize`."
   ]
  },
  {
   "cell_type": "code",
   "execution_count": 9,
   "metadata": {},
   "outputs": [],
   "source": [
    "# imports.\n",
    "import numpy as np\n",
    "from numpy import asarray\n",
    "from sklearn.model_selection import train_test_split\n",
    "from tensorflow.keras.applications.resnet50 import ResNet50\n",
    "from tensorflow.keras.preprocessing import image\n",
    "from tensorflow.keras.applications.resnet50 import preprocess_input, decode_predictions\n",
    "from tensorflow.keras.layers import Dense, GlobalAveragePooling2D\n",
    "from tensorflow.keras.models import Model # This is the functional API\n",
    "from skimage.transform import resize\n",
    "from skimage import color, io\n",
    "from skimage.exposure import rescale_intensity"
   ]
  },
  {
   "cell_type": "code",
   "execution_count": 10,
   "metadata": {},
   "outputs": [],
   "source": [
    "# set the mountain columns.\n",
    "col_mtn = io.ImageCollection('../data/mountain/*')\n",
    "# set the forest columns.\n",
    "col_fst = io.ImageCollection('../data/forest/*')"
   ]
  },
  {
   "cell_type": "code",
   "execution_count": 11,
   "metadata": {},
   "outputs": [
    {
     "name": "stdout",
     "output_type": "stream",
     "text": [
      "(256, 256, 3)\n",
      "(256, 256, 3)\n"
     ]
    }
   ],
   "source": [
    "# show the shape.\n",
    "print(col_mtn[0].shape)\n",
    "print(col_fst[0].shape)"
   ]
  },
  {
   "cell_type": "code",
   "execution_count": 12,
   "metadata": {},
   "outputs": [
    {
     "data": {
      "text/plain": [
       "374"
      ]
     },
     "execution_count": 12,
     "metadata": {},
     "output_type": "execute_result"
    }
   ],
   "source": [
    "# show the length.\n",
    "len(col_mtn)"
   ]
  },
  {
   "cell_type": "code",
   "execution_count": 13,
   "metadata": {},
   "outputs": [
    {
     "name": "stdout",
     "output_type": "stream",
     "text": [
      "(702, 256, 256, 3)\n",
      "(702, 196608)\n",
      "(702,)\n"
     ]
    }
   ],
   "source": [
    "# create image process function.\n",
    "def image_process(coll1, coll2):\n",
    "    i_list = []\n",
    "    d_list = []\n",
    "    l_list = []\n",
    "    \n",
    "    for i in range(0, len(coll1)):\n",
    "                \n",
    "        image = coll1[i]\n",
    "        data = asarray(image)\n",
    "                \n",
    "        # load images into image_list\n",
    "        i_list.append(data)\n",
    "  \n",
    "        # load images as ravelled array into data_list\n",
    "        rav_array = np.ravel(data)\n",
    "        d_list.append(rav_array)\n",
    "\n",
    "        l_list.append(1)\n",
    "        \n",
    "    for i in range(0, len(coll2)):\n",
    "                \n",
    "        image = coll2[i]\n",
    "        data = asarray(image)\n",
    "                \n",
    "        # load images into image_list\n",
    "        i_list.append(data)\n",
    "  \n",
    "        # load images as ravelled array into data_list\n",
    "        rav_array = np.ravel(data)\n",
    "        d_list.append(rav_array)\n",
    "\n",
    "        l_list.append(0)\n",
    "                \n",
    "    # convert image_list to numpy array\n",
    "    i_list = np.array(i_list)\n",
    "\n",
    "    # convert data_list to numpy array\n",
    "    d_list = np.array(d_list)\n",
    "\n",
    "    # convert label_list to numpy array\n",
    "    l_list = np.array(l_list)\n",
    "        \n",
    "    return i_list, d_list, l_list\n",
    "\n",
    "image_list, data_list, label_list = image_process(col_mtn, col_fst)\n",
    "\n",
    "print(image_list.shape)\n",
    "print(data_list.shape)\n",
    "print(label_list.shape)"
   ]
  },
  {
   "cell_type": "code",
   "execution_count": 19,
   "metadata": {},
   "outputs": [],
   "source": [
    "# set the x and y values.\n",
    "X = image_list\n",
    "y = label_list\n",
    "\n",
    "# split into a training and testing set.\n",
    "X_train, X_test, y_train, y_test = train_test_split(X, y, test_size=0.25, random_state=42)"
   ]
  },
  {
   "cell_type": "markdown",
   "metadata": {},
   "source": [
    "## Instatiate Model"
   ]
  },
  {
   "cell_type": "code",
   "execution_count": 15,
   "metadata": {},
   "outputs": [],
   "source": [
    "# set the resnet data.\n",
    "resnet = ResNet50(weights='imagenet', include_top=False)\n",
    "for layer in resnet.layers:\n",
    "    layer.trainable = False"
   ]
  },
  {
   "cell_type": "markdown",
   "metadata": {},
   "source": [
    "## Fit Model"
   ]
  },
  {
   "cell_type": "code",
   "execution_count": 17,
   "metadata": {},
   "outputs": [
    {
     "name": "stdout",
     "output_type": "stream",
     "text": [
      "Train on 526 samples, validate on 176 samples\n",
      "Epoch 1/5\n",
      "526/526 [==============================] - 81s 153ms/sample - loss: 0.1156 - accuracy: 0.8498 - val_loss: 0.0991 - val_accuracy: 0.8807\n",
      "Epoch 2/5\n",
      "526/526 [==============================] - 84s 160ms/sample - loss: 0.0294 - accuracy: 0.9658 - val_loss: 0.0527 - val_accuracy: 0.9375\n",
      "Epoch 3/5\n",
      "526/526 [==============================] - 86s 163ms/sample - loss: 0.0234 - accuracy: 0.9753 - val_loss: 0.0709 - val_accuracy: 0.9205\n",
      "Epoch 4/5\n",
      "526/526 [==============================] - 76s 144ms/sample - loss: 0.0156 - accuracy: 0.9829 - val_loss: 0.1046 - val_accuracy: 0.8920\n",
      "Epoch 5/5\n",
      "526/526 [==============================] - 75s 143ms/sample - loss: 0.0277 - accuracy: 0.9696 - val_loss: 0.0348 - val_accuracy: 0.9545\n"
     ]
    },
    {
     "data": {
      "text/plain": [
       "<tensorflow.python.keras.callbacks.History at 0x140f9f250>"
      ]
     },
     "execution_count": 17,
     "metadata": {},
     "output_type": "execute_result"
    }
   ],
   "source": [
    "# create the model.\n",
    "x = resnet.output\n",
    "x = GlobalAveragePooling2D()(x) # This layer is a really fancy flatten\n",
    "x = Dense(1024, activation='relu')(x)\n",
    "predictions = Dense(1, activation='sigmoid')(x)\n",
    "model = Model(resnet.input, predictions)\n",
    "# complie the model.\n",
    "model.compile(optimizer='adam',\n",
    "              loss='mean_squared_error',\n",
    "              metrics=['accuracy'])\n",
    "# fit the model with parameters.\n",
    "model.fit(X_train, y_train, epochs=5, validation_data=(X_test, y_test))"
   ]
  },
  {
   "cell_type": "markdown",
   "metadata": {},
   "source": [
    "# Custom CNN Model\n",
    "\n",
    "In this step, write and train your own convolutional neural network using Keras. You can use any architecture that suits you as long as it has at least one convolutional and one pooling layer at the beginning of the network - you can add more if you want. "
   ]
  },
  {
   "cell_type": "code",
   "execution_count": 21,
   "metadata": {},
   "outputs": [],
   "source": [
    "# imports.\n",
    "from tensorflow.keras.models import Sequential, Model\n",
    "from tensorflow.keras.layers import Dense, Conv2D, MaxPooling2D, Flatten"
   ]
  },
  {
   "cell_type": "code",
   "execution_count": 22,
   "metadata": {},
   "outputs": [
    {
     "name": "stdout",
     "output_type": "stream",
     "text": [
      "(702, 32, 32, 3)\n",
      "(702, 3072)\n",
      "(702,)\n"
     ]
    }
   ],
   "source": [
    "# create image process function.\n",
    "def image_process(coll1, coll2):\n",
    "    i_list = []\n",
    "    d_list = []\n",
    "    l_list = []\n",
    "    \n",
    "    for i in range(0, len(coll1)):\n",
    "                \n",
    "        image = resize(coll1[i], (coll1[i].shape[0] // 8, coll1[i].shape[1] // 8),\n",
    "                       anti_aliasing=True)\n",
    "        data = asarray(image)\n",
    "                \n",
    "        # load images into image_list\n",
    "        i_list.append(data)\n",
    "  \n",
    "        # load images as ravelled array into data_list\n",
    "        rav_array = np.ravel(data)\n",
    "        d_list.append(rav_array)\n",
    "\n",
    "        l_list.append(1)\n",
    "        \n",
    "    for i in range(0, len(coll2)):\n",
    "                \n",
    "        image = image = resize(coll2[i], (coll2[i].shape[0] // 8, coll2[i].shape[1] // 8),\n",
    "                       anti_aliasing=True)\n",
    "        data = asarray(image)\n",
    "                \n",
    "        # load images into image_list\n",
    "        i_list.append(data)\n",
    "  \n",
    "        # load images as ravelled array into data_list\n",
    "        rav_array = np.ravel(data)\n",
    "        d_list.append(rav_array)\n",
    "\n",
    "        l_list.append(0)\n",
    "                \n",
    "    # convert image_list to numpy array\n",
    "    i_list = np.array(i_list)\n",
    "\n",
    "    # convert data_list to numpy array\n",
    "    d_list = np.array(d_list)\n",
    "\n",
    "    # convert label_list to numpy array\n",
    "    l_list = np.array(l_list)\n",
    "        \n",
    "    return i_list, d_list, l_list\n",
    "\n",
    "image_list, data_list, label_list = image_process(col_mtn, col_fst)\n",
    "\n",
    "print(image_list.shape)\n",
    "print(data_list.shape)\n",
    "print(label_list.shape)"
   ]
  },
  {
   "cell_type": "code",
   "execution_count": 23,
   "metadata": {},
   "outputs": [],
   "source": [
    "# set the x and y values.\n",
    "X = image_list\n",
    "y = label_list\n",
    "\n",
    "# split into a training and testing set.\n",
    "X_train, X_test, y_train, y_test = train_test_split(X, y, test_size=0.25, random_state=42)"
   ]
  },
  {
   "cell_type": "code",
   "execution_count": 24,
   "metadata": {},
   "outputs": [
    {
     "name": "stdout",
     "output_type": "stream",
     "text": [
      "Model: \"sequential\"\n",
      "_________________________________________________________________\n",
      "Layer (type)                 Output Shape              Param #   \n",
      "=================================================================\n",
      "conv2d (Conv2D)              (None, 30, 30, 32)        896       \n",
      "_________________________________________________________________\n",
      "max_pooling2d (MaxPooling2D) (None, 15, 15, 32)        0         \n",
      "_________________________________________________________________\n",
      "conv2d_1 (Conv2D)            (None, 13, 13, 64)        18496     \n",
      "_________________________________________________________________\n",
      "max_pooling2d_1 (MaxPooling2 (None, 6, 6, 64)          0         \n",
      "_________________________________________________________________\n",
      "conv2d_2 (Conv2D)            (None, 4, 4, 64)          36928     \n",
      "_________________________________________________________________\n",
      "flatten (Flatten)            (None, 1024)              0         \n",
      "_________________________________________________________________\n",
      "dense (Dense)                (None, 64)                65600     \n",
      "_________________________________________________________________\n",
      "dense_1 (Dense)              (None, 10)                650       \n",
      "=================================================================\n",
      "Total params: 122,570\n",
      "Trainable params: 122,570\n",
      "Non-trainable params: 0\n",
      "_________________________________________________________________\n"
     ]
    }
   ],
   "source": [
    "# create the model.\n",
    "model = Sequential()\n",
    "model.add(Conv2D(32, (3,3), activation='relu', input_shape=(32,32,3)))\n",
    "model.add(MaxPooling2D((2,2)))\n",
    "model.add(Conv2D(64, (3,3), activation='relu'))\n",
    "model.add(MaxPooling2D((2,2)))\n",
    "model.add(Conv2D(64, (3,3), activation='relu'))\n",
    "model.add(Flatten())\n",
    "model.add(Dense(64, activation='relu'))\n",
    "model.add(Dense(10, activation='softmax'))\n",
    "# show the model summary.\n",
    "model.summary()"
   ]
  },
  {
   "cell_type": "code",
   "execution_count": 25,
   "metadata": {},
   "outputs": [],
   "source": [
    "# compile the model.\n",
    "model.compile(optimizer='adam',\n",
    "              loss='sparse_categorical_crossentropy',\n",
    "              metrics=['accuracy'])"
   ]
  },
  {
   "cell_type": "code",
   "execution_count": 26,
   "metadata": {},
   "outputs": [
    {
     "name": "stdout",
     "output_type": "stream",
     "text": [
      "Train on 526 samples, validate on 176 samples\n",
      "Epoch 1/20\n",
      "526/526 [==============================] - 1s 2ms/sample - loss: 0.9563 - accuracy: 0.4848 - val_loss: 0.6328 - val_accuracy: 0.5966\n",
      "Epoch 2/20\n",
      "526/526 [==============================] - 0s 799us/sample - loss: 0.6448 - accuracy: 0.5913 - val_loss: 0.5361 - val_accuracy: 0.8295\n",
      "Epoch 3/20\n",
      "526/526 [==============================] - 0s 826us/sample - loss: 0.4324 - accuracy: 0.8384 - val_loss: 0.4300 - val_accuracy: 0.7898\n",
      "Epoch 4/20\n",
      "526/526 [==============================] - 0s 806us/sample - loss: 0.4176 - accuracy: 0.8289 - val_loss: 0.5058 - val_accuracy: 0.7216\n",
      "Epoch 5/20\n",
      "526/526 [==============================] - 0s 779us/sample - loss: 0.4308 - accuracy: 0.8308 - val_loss: 0.3455 - val_accuracy: 0.8750\n",
      "Epoch 6/20\n",
      "526/526 [==============================] - 1s 1ms/sample - loss: 0.3200 - accuracy: 0.8802 - val_loss: 0.3418 - val_accuracy: 0.8636\n",
      "Epoch 7/20\n",
      "526/526 [==============================] - 1s 1ms/sample - loss: 0.2864 - accuracy: 0.8973 - val_loss: 0.2987 - val_accuracy: 0.9034\n",
      "Epoch 8/20\n",
      "526/526 [==============================] - 0s 806us/sample - loss: 0.2829 - accuracy: 0.8935 - val_loss: 0.3247 - val_accuracy: 0.8636\n",
      "Epoch 9/20\n",
      "526/526 [==============================] - 0s 823us/sample - loss: 0.2414 - accuracy: 0.9106 - val_loss: 0.2815 - val_accuracy: 0.8977\n",
      "Epoch 10/20\n",
      "526/526 [==============================] - 0s 815us/sample - loss: 0.2537 - accuracy: 0.8973 - val_loss: 0.2694 - val_accuracy: 0.8864\n",
      "Epoch 11/20\n",
      "526/526 [==============================] - 0s 834us/sample - loss: 0.2539 - accuracy: 0.8897 - val_loss: 0.3750 - val_accuracy: 0.8352\n",
      "Epoch 12/20\n",
      "526/526 [==============================] - 0s 789us/sample - loss: 0.2247 - accuracy: 0.9125 - val_loss: 0.2841 - val_accuracy: 0.8920\n",
      "Epoch 13/20\n",
      "526/526 [==============================] - 1s 1ms/sample - loss: 0.2003 - accuracy: 0.9354 - val_loss: 0.2569 - val_accuracy: 0.8977\n",
      "Epoch 14/20\n",
      "526/526 [==============================] - 1s 987us/sample - loss: 0.1911 - accuracy: 0.9278 - val_loss: 0.2654 - val_accuracy: 0.9034\n",
      "Epoch 15/20\n",
      "526/526 [==============================] - 0s 803us/sample - loss: 0.1957 - accuracy: 0.9316 - val_loss: 0.2395 - val_accuracy: 0.9091\n",
      "Epoch 16/20\n",
      "526/526 [==============================] - 0s 915us/sample - loss: 0.1764 - accuracy: 0.9335 - val_loss: 0.2915 - val_accuracy: 0.8807\n",
      "Epoch 17/20\n",
      "526/526 [==============================] - 1s 1ms/sample - loss: 0.1703 - accuracy: 0.9411 - val_loss: 0.3600 - val_accuracy: 0.8466\n",
      "Epoch 18/20\n",
      "526/526 [==============================] - 0s 883us/sample - loss: 0.1604 - accuracy: 0.9411 - val_loss: 0.2388 - val_accuracy: 0.9148\n",
      "Epoch 19/20\n",
      "526/526 [==============================] - 1s 966us/sample - loss: 0.1335 - accuracy: 0.9506 - val_loss: 0.3009 - val_accuracy: 0.8693\n",
      "Epoch 20/20\n",
      "526/526 [==============================] - 0s 942us/sample - loss: 0.1612 - accuracy: 0.9316 - val_loss: 0.3031 - val_accuracy: 0.8523\n"
     ]
    },
    {
     "data": {
      "text/plain": [
       "<tensorflow.python.keras.callbacks.History at 0x1393f7590>"
      ]
     },
     "execution_count": 26,
     "metadata": {},
     "output_type": "execute_result"
    }
   ],
   "source": [
    "# fit the model.\n",
    "model.fit(X_train, y_train, epochs=20, validation_data=(X_test, y_test))"
   ]
  },
  {
   "cell_type": "markdown",
   "metadata": {},
   "source": [
    "# Custom CNN Model with Image Manipulations\n",
    "## *This a stretch goal, and it's relatively difficult*\n",
    "\n",
    "To simulate an increase in a sample of image, you can apply image manipulation techniques: cropping, rotation, stretching, etc. Luckily Keras has some handy functions for us to apply these techniques to our mountain and forest example. Check out these resources to help you get started: \n",
    "\n",
    "1. [Keras `ImageGenerator` Class](https://keras.io/preprocessing/image/#imagedatagenerator-class)\n",
    "2. [Building a powerful image classifier with very little data](https://blog.keras.io/building-powerful-image-classification-models-using-very-little-data.html)\n",
    " "
   ]
  },
  {
   "cell_type": "code",
   "execution_count": null,
   "metadata": {},
   "outputs": [],
   "source": [
    "# State Code for Image Manipulation Here"
   ]
  },
  {
   "cell_type": "markdown",
   "metadata": {
    "colab_type": "text",
    "id": "uT3UV3gap9H6"
   },
   "source": [
    "# Resources and Stretch Goals\n",
    "\n",
    "Stretch goals\n",
    "- Enhance your code to use classes/functions and accept terms to search and classes to look for in recognizing the downloaded images (e.g. download images of parties, recognize all that contain balloons)\n",
    "- Check out [other available pretrained networks](https://tfhub.dev), try some and compare\n",
    "- Image recognition/classification is somewhat solved, but *relationships* between entities and describing an image is not - check out some of the extended resources (e.g. [Visual Genome](https://visualgenome.org/)) on the topic\n",
    "- Transfer learning - using images you source yourself, [retrain a classifier](https://www.tensorflow.org/hub/tutorials/image_retraining) with a new category\n",
    "- (Not CNN related) Use [piexif](https://pypi.org/project/piexif/) to check out the metadata of images passed in to your system - see if they're from a national park! (Note - many images lack GPS metadata, so this won't work in most cases, but still cool)\n",
    "\n",
    "Resources\n",
    "- [Deep Residual Learning for Image Recognition](https://arxiv.org/abs/1512.03385) - influential paper (introduced ResNet)\n",
    "- [YOLO: Real-Time Object Detection](https://pjreddie.com/darknet/yolo/) - an influential convolution based object detection system, focused on inference speed (for applications to e.g. self driving vehicles)\n",
    "- [R-CNN, Fast R-CNN, Faster R-CNN, YOLO](https://towardsdatascience.com/r-cnn-fast-r-cnn-faster-r-cnn-yolo-object-detection-algorithms-36d53571365e) - comparison of object detection systems\n",
    "- [Common Objects in Context](http://cocodataset.org/) - a large-scale object detection, segmentation, and captioning dataset\n",
    "- [Visual Genome](https://visualgenome.org/) - a dataset, a knowledge base, an ongoing effort to connect structured image concepts to language"
   ]
  }
 ],
 "metadata": {
  "kernelspec": {
   "display_name": "Python (NLP)",
   "language": "python",
   "name": "python-nlp"
  },
  "language_info": {
   "codemirror_mode": {
    "name": "ipython",
    "version": 3
   },
   "file_extension": ".py",
   "mimetype": "text/x-python",
   "name": "python",
   "nbconvert_exporter": "python",
   "pygments_lexer": "ipython3",
   "version": "3.7.4"
  }
 },
 "nbformat": 4,
 "nbformat_minor": 4
}
